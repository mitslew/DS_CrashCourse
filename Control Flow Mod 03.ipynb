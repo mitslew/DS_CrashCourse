{
 "cells": [
  {
   "cell_type": "markdown",
   "id": "e0f875c3",
   "metadata": {},
   "source": [
    "Exercise 1\n",
    "Guess a number between 1 to 9 given by the user"
   ]
  },
  {
   "cell_type": "code",
   "execution_count": 99,
   "id": "89378ab6",
   "metadata": {},
   "outputs": [
    {
     "name": "stdout",
     "output_type": "stream",
     "text": [
      "Guess a number between 1 and 10 until you get it right : 1\n",
      "Guess a number between 1 and 10 until you get it right : 2\n",
      "Guess a number between 1 and 10 until you get it right : 3\n",
      "Guess a number between 1 and 10 until you get it right : 4\n",
      "Guess a number between 1 and 10 until you get it right : 5\n",
      "Guess a number between 1 and 10 until you get it right : 6\n",
      "Guess a number between 1 and 10 until you get it right : 7\n",
      "Nice job!\n"
     ]
    }
   ],
   "source": [
    "import random\n",
    "target_num, guess_num = random.randint(1, 10), 0 \n",
    "while target_num != guess_num: \n",
    "    guess_num = int(input('Guess a number between 1 and 10 until you get it right : '))\n",
    "print(\"Nice job!\")"
   ]
  },
  {
   "cell_type": "markdown",
   "id": "3607e4e4",
   "metadata": {},
   "source": [
    "Exercise 2\n",
    "Check the validity of password input by the user.\n",
    "\n",
    "Validation:\n",
    "\n",
    "At least 1 letter between [a-z] and 1 letter between [A-Z]\n",
    "At least 1 number between [0-9]\n",
    "At least 1 character from [$#@]\n",
    "Minimum length 6 characters\n",
    "Maximum length 16 characters"
   ]
  },
  {
   "cell_type": "code",
   "execution_count": 16,
   "id": "e68a9e18",
   "metadata": {},
   "outputs": [
    {
     "name": "stdout",
     "output_type": "stream",
     "text": [
      "Enter password passwordW3r@100a\n",
      "valide Pass\n"
     ]
    }
   ],
   "source": [
    "#input(\"Enter password with at least 1 uppercase and 1 lowercase letter, 1 number, and one of the following characters $#@\")\n",
    "import re\n",
    "p=input(\"Enter password \")\n",
    "x = True\n",
    "while x:\n",
    "    if (len(p)<6 or len(p)>16):\n",
    "        break\n",
    "    elif not re.search(\"[a-z]\" ,p):\n",
    "        break\n",
    "    elif not re.search(\"[0-9]\" ,p):\n",
    "        break\n",
    "    elif not re.search(\"[A-Z]\" ,p):\n",
    "        break\n",
    "    elif not re.search(\"[$#@]\" ,p):\n",
    "        break\n",
    "    elif re.search(\"/s\" ,p):\n",
    "        break\n",
    "    else:\n",
    "        print(\"valide Pass\")\n",
    "        x = False\n",
    "        break\n",
    "if x:\n",
    "    print(\"not valid\")\n",
    "    "
   ]
  },
  {
   "cell_type": "markdown",
   "id": "a00574a6",
   "metadata": {},
   "source": [
    "Exercise 3\n",
    "Get input of the age of 3 people by user and determine oldest and youngest among them"
   ]
  },
  {
   "cell_type": "code",
   "execution_count": 11,
   "id": "d934d595",
   "metadata": {},
   "outputs": [
    {
     "name": "stdout",
     "output_type": "stream",
     "text": [
      "Person 1 age: 3\n",
      "Person 2 age:4\n",
      "Person 3 age: 5\n",
      "Person 3 is oldest\n",
      "Person 1 is youngest\n"
     ]
    }
   ],
   "source": [
    "x1 = int(input(\"Person 1 age: \"))\n",
    "x2 = int(input(\"Person 2 age:\"))\n",
    "x3 = int(input(\"Person 3 age: \"))\n",
    "if (x1>x2) and (x1>x3):\n",
    "    print(\"Person 1 is oldest\")\n",
    "elif (x2>x1) and (x2>x3):\n",
    "    print (\"Person 2 is oldest\")\n",
    "else:\n",
    "    print (\"Person 3 is oldest\")\n",
    "    \n",
    "if (x1<x2) and (x1<x3):\n",
    "    print(\"Person 1 is youngest\")\n",
    "elif (x2<x1) and (x2<x3):\n",
    "    print (\"Person 2 is youngest\")\n",
    "else:\n",
    "    print (\"Person 3 is youngest\")"
   ]
  },
  {
   "cell_type": "code",
   "execution_count": 25,
   "id": "3d94bcb2",
   "metadata": {},
   "outputs": [
    {
     "name": "stdout",
     "output_type": "stream",
     "text": [
      "Person 1 age: 2\n",
      "Person 2 age:3\n",
      "Person 3 age: 4\n",
      "4 is the oldest person\n",
      "2 is the youngest person\n"
     ]
    }
   ],
   "source": [
    "x1 = int(input(\"Person 1 age: \"))\n",
    "x2 = int(input(\"Person 2 age:\"))\n",
    "x3 = int(input(\"Person 3 age: \"))\n",
    "list=[x1,x2,x3] #turn ages into list\n",
    "print(max(list), \"is the oldest person\")\n",
    "print(min(list), \"is the youngest person\") "
   ]
  },
  {
   "cell_type": "markdown",
   "id": "c5be21a2",
   "metadata": {},
   "source": [
    "Exercise 4\n",
    "A student will not be allowed to sit in exam if his/her attendance is less than 75%.\n",
    "\n",
    "Take following input from user\n",
    "\n",
    "Number of classes held\n",
    "Number of classes attended.\n",
    "And print\n",
    "percentage of class attended\n",
    "Is student is allowed to sit in exam or not?"
   ]
  },
  {
   "cell_type": "code",
   "execution_count": 59,
   "id": "83eeadfa",
   "metadata": {},
   "outputs": [
    {
     "name": "stdout",
     "output_type": "stream",
     "text": [
      "Number of classes held: 50\n",
      "Number of classes attended: 34\n",
      "0.68\n",
      "Not allowed to test\n"
     ]
    }
   ],
   "source": [
    "#program to determine if student eligible to take exam.\n",
    "x1 = int(input(\"Number of classes held: \")) \n",
    "x2 = int(input(\"Number of classes attended: \"))\n",
    "percent = (x2/x1) #to calculate attendance percentage\n",
    "print(percent)\n",
    "if percent == .75: #to determine what statement to print\n",
    "    print(\"Allowed to test\")\n",
    "elif percent > .75:\n",
    "    print(\"Allowed to test\")\n",
    "else:\n",
    "    print(\"Not allowed to test\")"
   ]
  },
  {
   "cell_type": "markdown",
   "id": "c1764a1b",
   "metadata": {},
   "source": [
    "Exercise 5\n",
    "\n",
    "Get an integer N from the user and perform the following actions:\n",
    "\n",
    "if N is odd, print \"weird\"\n",
    "if N is even and in the inclusive range of 2 to 5, print \"Not Weird\"\n",
    "if N is even and in the inclusive range of 6 to 20, print \"Weird\"\n",
    "if N is even and greater than 20, print \"Not Weird\""
   ]
  },
  {
   "cell_type": "code",
   "execution_count": 96,
   "id": "0b275586",
   "metadata": {},
   "outputs": [
    {
     "name": "stdout",
     "output_type": "stream",
     "text": [
      "Enter a number: 44\n",
      "44 is not weird\n"
     ]
    }
   ],
   "source": [
    "num = int(input(\"Enter a number: \")) \n",
    "if (num % 2) != 0 or (6<=num<=20) and not (2<=num<=5): #to identify weird numbers\n",
    "   print(\"{0} is weird\".format(num)) #to print weird statement with number included\n",
    "else:\n",
    "    print(\"{0} is not weird\".format(num)) #to print not weird statement with number included\n"
   ]
  }
 ],
 "metadata": {
  "kernelspec": {
   "display_name": "Python 3 (ipykernel)",
   "language": "python",
   "name": "python3"
  },
  "language_info": {
   "codemirror_mode": {
    "name": "ipython",
    "version": 3
   },
   "file_extension": ".py",
   "mimetype": "text/x-python",
   "name": "python",
   "nbconvert_exporter": "python",
   "pygments_lexer": "ipython3",
   "version": "3.9.12"
  }
 },
 "nbformat": 4,
 "nbformat_minor": 5
}
