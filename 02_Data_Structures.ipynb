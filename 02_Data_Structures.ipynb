{
 "cells": [
  {
   "cell_type": "markdown",
   "id": "1fed1802",
   "metadata": {},
   "source": [
    "#Exercise 1\n",
    "\n",
    "In mathematics, the quadratic equation ax2+bx+c=0 can be solved with the formula x=−b±b2−4ac√2a.\n",
    "\n",
    "Write a function solve_quadratic, that returns both solutions of a generic quadratic as a pair (2-tuple) when the coefficients are given as parameters. It should work like this:\n",
    "\n",
    "print(solve_quadratic(1,-3,2))\n",
    "(2.0,1.0)\n",
    "print(solve_quadratic(1,2,1))\n",
    "(-1.0,-1.0)\n",
    "You may want to use the math.sqrt function from the math module in your solution. Test that your function works in the main function!"
   ]
  },
  {
   "cell_type": "code",
   "execution_count": 31,
   "id": "24b1181b",
   "metadata": {},
   "outputs": [
    {
     "name": "stdout",
     "output_type": "stream",
     "text": [
      "Enter a: 1\n",
      "Enter b: -3\n",
      "Enter c: 2\n",
      "2.0 1.0\n"
     ]
    }
   ],
   "source": [
    "a= int(input(\"Enter a: \"))\n",
    "b= int(input(\"Enter b: \"))\n",
    "c= int(input(\"Enter c: \"))\n",
    "print((-b + math.sqrt(b**2 - 4*a*c))/(2*a) , (-b - math.sqrt(b**2 - 4*a*c))/(2*a))"
   ]
  },
  {
   "cell_type": "markdown",
   "id": "b13b5022",
   "metadata": {},
   "source": [
    "Exercise 2\n",
    "\n",
    "Get a space-separated list of integers from the user, create a tuple of those integers. Then compute and print the result of hash(tuple).\n",
    "\n",
    "Documentation: hash():"
   ]
  },
  {
   "cell_type": "code",
   "execution_count": 10,
   "id": "b707fc5f",
   "metadata": {},
   "outputs": [
    {
     "name": "stdout",
     "output_type": "stream",
     "text": [
      "Enter multiple integers separated by commas: 3, 6, 9, 12, 15, 18, 21\n",
      "3  6  9  12  15  18  21\n"
     ]
    },
    {
     "data": {
      "text/plain": [
       "-4178641169677287255"
      ]
     },
     "execution_count": 10,
     "metadata": {},
     "output_type": "execute_result"
    }
   ],
   "source": [
    "#space, comma separated list\n",
    "x = input(\"Enter multiple integers separated by commas: \")\n",
    "x1 = x.replace(',', \" \") #remove commas\n",
    "print(x1) \n",
    "t=tuple(x1) #tuple function for numbers sin commas\n",
    "hash(t)"
   ]
  },
  {
   "cell_type": "markdown",
   "id": "bfc961a4",
   "metadata": {},
   "source": [
    "Exercise 3\n",
    "\n",
    "Take the following two lists. Create a third list by picking a odd-index elements from the first list and even-index elements from the second.\n",
    "\n",
    "listOne = [3, 6, 9, 12, 15, 18, 21]\n",
    "listTwo = [4, 8, 12, 16, 20, 24, 28]\n"
   ]
  },
  {
   "cell_type": "code",
   "execution_count": 40,
   "id": "426fe18f",
   "metadata": {},
   "outputs": [
    {
     "name": "stdout",
     "output_type": "stream",
     "text": [
      "Element at odd-index positions from list one\n",
      "[6, 12, 18]\n",
      "Element at even-index positions from list two\n",
      "[4, 12, 20, 28]\n",
      "Printing Final third list\n",
      "[6, 12, 18, 4, 12, 20, 28]\n"
     ]
    }
   ],
   "source": [
    "list1 = [3, 6, 9, 12, 15, 18, 21]\n",
    "list2 = [4, 8, 12, 16, 20, 24, 28]\n",
    "res = list()\n",
    "\n",
    "odd_elements = list1[1::2]\n",
    "print(\"Element at odd-index positions from list one\")\n",
    "print(odd_elements)\n",
    "\n",
    "even_elements = list2[0::2]\n",
    "print(\"Element at even-index positions from list two\")\n",
    "print(even_elements)\n",
    "\n",
    "print(\"Printing Final third list\")\n",
    "res.extend(odd_elements)\n",
    "res.extend(even_elements)\n",
    "print(res)"
   ]
  },
  {
   "cell_type": "markdown",
   "id": "cced8c74",
   "metadata": {},
   "source": [
    "Exercise 4\n",
    "\n",
    "Take the following list. Slice it into three equal chunks and reverse each list.\n",
    "\n",
    "sampleList = [11, 45, 8, 23, 14, 12, 78, 45, 89]"
   ]
  },
  {
   "cell_type": "code",
   "execution_count": 39,
   "id": "5f4a43e4",
   "metadata": {},
   "outputs": [
    {
     "name": "stdout",
     "output_type": "stream",
     "text": [
      "Original list  [11, 45, 8, 23, 14, 12, 78, 45, 89]\n",
      "Chunk  0 [11, 45, 8]\n",
      "After reversing it  [8, 45, 11]\n",
      "Chunk  1 [23, 14, 12]\n",
      "After reversing it  [12, 14, 23]\n",
      "Chunk  2 [78, 45, 89]\n",
      "After reversing it  [89, 45, 78]\n"
     ]
    }
   ],
   "source": [
    "sample_list = [11, 45, 8, 23, 14, 12, 78, 45, 89]\n",
    "#print(\"Original list \", sample_list)\n",
    "\n",
    "length = len(sample_list)\n",
    "chunk_size = int(length / 3)\n",
    "start = 0\n",
    "end = chunk_size\n",
    "\n",
    "# run loop 3 times\n",
    "for i in range(3):\n",
    "    # get indexes\n",
    "    indexes = slice(start, end)\n",
    "    \n",
    "    # get chunk\n",
    "    list_chunk = sample_list[indexes]\n",
    "    print(\"Chunk \", i, list_chunk)\n",
    "    \n",
    "    # reverse chunk\n",
    "    print(\"After reversing it \", list(reversed(list_chunk)))\n",
    "\n",
    "    start = end\n",
    "    end += chunk_size"
   ]
  },
  {
   "cell_type": "markdown",
   "id": "ce1bf528",
   "metadata": {},
   "source": [
    "Exercise 5\n",
    "\n",
    "Iterate through a given list and check if a given element already exists in a dictionary as a key’s value. If not, delete it from the list.\n",
    "\n",
    "rollNumber = [47, 64, 69, 37, 76, 83, 95, 97]\n",
    "sampleDict ={'Zach':47, 'Emma':69, 'Kelly':76, 'Jason':97}"
   ]
  },
  {
   "cell_type": "code",
   "execution_count": 27,
   "id": "315be5b2",
   "metadata": {},
   "outputs": [
    {
     "name": "stdout",
     "output_type": "stream",
     "text": [
      "[47, 69, 76, 97]\n"
     ]
    }
   ],
   "source": [
    "rollNumber = [47, 64, 69, 37, 76, 83, 95, 97]\n",
    "sampleDict = {'Zach':47, 'Emma':69, 'Kelly':76, 'Jason':97}\n",
    "i = 0\n",
    "while i < len(rollNumber):\n",
    "    if rollNumber[i] in sampleDict.values():\n",
    "        i += 1\n",
    "    else:\n",
    "        rollNumber.pop(i)\n",
    "        \n",
    "print(rollNumber)"
   ]
  }
 ],
 "metadata": {
  "kernelspec": {
   "display_name": "Python 3 (ipykernel)",
   "language": "python",
   "name": "python3"
  },
  "language_info": {
   "codemirror_mode": {
    "name": "ipython",
    "version": 3
   },
   "file_extension": ".py",
   "mimetype": "text/x-python",
   "name": "python",
   "nbconvert_exporter": "python",
   "pygments_lexer": "ipython3",
   "version": "3.9.12"
  }
 },
 "nbformat": 4,
 "nbformat_minor": 5
}
