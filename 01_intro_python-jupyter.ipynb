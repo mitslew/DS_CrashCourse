{
 "cells": [
  {
   "cell_type": "markdown",
   "id": "0cd61a43",
   "metadata": {},
   "source": [
    "# Jupyter Notebook Mod 01: Practice Assignment!"
   ]
  },
  {
   "cell_type": "markdown",
   "id": "ff1b7cae",
   "metadata": {},
   "source": [
    "1. Accept the user's first and last name and print them in reverse order with a space between them"
   ]
  },
  {
   "cell_type": "code",
   "execution_count": 1,
   "id": "98c24c98",
   "metadata": {},
   "outputs": [
    {
     "name": "stdout",
     "output_type": "stream",
     "text": [
      "Enter your first name: Tim\n",
      "Enter your last name: Wells\n",
      "Wells Tim\n"
     ]
    }
   ],
   "source": [
    "First = str(input(\"Enter your first name: \"))\n",
    "Last = str(input(\"Enter your last name: \"))\n",
    "print(Last+\" \"+First)"
   ]
  },
  {
   "cell_type": "markdown",
   "id": "2704ad63",
   "metadata": {},
   "source": [
    "2. Accept an integer (n) and compute the value of n+nn+nnn"
   ]
  },
  {
   "cell_type": "code",
   "execution_count": 2,
   "id": "8b71015f",
   "metadata": {},
   "outputs": [
    {
     "name": "stdout",
     "output_type": "stream",
     "text": [
      "Enter an integer: 5\n",
      "615\n"
     ]
    }
   ],
   "source": [
    "n=int(input(\"Enter an integer: \"))\n",
    "n1=int(\"%s\" % n)\n",
    "n2=int(\"%s%s\" % (n,n))\n",
    "n3=int(\"%s%s%s\" % (n,n,n))\n",
    "print(n1+n2+n3)"
   ]
  },
  {
   "cell_type": "markdown",
   "id": "21be27e9",
   "metadata": {},
   "source": [
    "3. Ask the user \"What country are you from?\" then print the following statement: \"I have heard that [input] is a beautiful country!\""
   ]
  },
  {
   "cell_type": "code",
   "execution_count": 5,
   "id": "6ad40e93",
   "metadata": {},
   "outputs": [
    {
     "name": "stdout",
     "output_type": "stream",
     "text": [
      "what country are you from? USA\n",
      "I have heard that USA is a beautiful country!\n"
     ]
    }
   ],
   "source": [
    "question = input(str(\"what country are you from? \"))\n",
    "print(\"I have heard that \" + question + \" is a beautiful country!\")"
   ]
  },
  {
   "cell_type": "markdown",
   "id": "d37b2037",
   "metadata": {},
   "source": [
    "4. What is the output of the following Python code\n",
    "\n",
    "x = 10\n",
    "\n",
    "y = 50\n",
    "\n",
    "if (x ** 2 > 100 and y < 100):\n",
    "    \n",
    "    print(x, y)"
   ]
  },
  {
   "cell_type": "markdown",
   "id": "7b6efe74",
   "metadata": {},
   "source": [
    "The output of that code is nothing because X**2 is not > 100 and y is not < 100. If both were true the out put would be x and y or 10 and 50."
   ]
  },
  {
   "cell_type": "markdown",
   "id": "028c2c54",
   "metadata": {},
   "source": [
    "5. 5.  What is the output of the following addition (+) operator, and why does this code chunk execute this way?\n",
    "    \n",
    "    a = [10, 20]\n",
    "    \n",
    "    b = a\n",
    "    \n",
    "    b += [30, 40]\n",
    "    \n",
    "    print(a)\n",
    "    \n",
    "    print(b)"
   ]
  },
  {
   "cell_type": "markdown",
   "id": "336c3424",
   "metadata": {},
   "source": [
    "The output of the addition operator is b= b + [30, 40] or simply 10, 20, 30, 40. "
   ]
  },
  {
   "cell_type": "markdown",
   "id": "55345af3",
   "metadata": {},
   "source": [
    "6. What is the output of the following code and what arithmetic operators is being used here? print(2%6)"
   ]
  },
  {
   "cell_type": "markdown",
   "id": "1c7829e1",
   "metadata": {},
   "source": [
    "The output is 2. The arithmetic operator being used is the modulus operator (%). It returns the remainer the lefthand number divided by the righthand number. "
   ]
  },
  {
   "cell_type": "markdown",
   "id": "7bd9de4e",
   "metadata": {},
   "source": [
    "7.  What is the output of the following code and what arithmetic operators are used here? print(2 * 3 ** 3 * 4)"
   ]
  },
  {
   "cell_type": "markdown",
   "id": "54dd92fc",
   "metadata": {},
   "source": [
    "The output is 216. The arithmetic operators are multiplication (*) and exponent (**)"
   ]
  },
  {
   "cell_type": "markdown",
   "id": "167fabe1",
   "metadata": {},
   "source": [
    "8.  What is a text editor?"
   ]
  },
  {
   "cell_type": "markdown",
   "id": "c91afb01",
   "metadata": {},
   "source": [
    "A text editor is a computer program that edits plain text. You can use a text editors to write and editor code as well as view and edit rich text documents. "
   ]
  },
  {
   "cell_type": "markdown",
   "id": "d8a865b0",
   "metadata": {},
   "source": [
    "9.  What is python?"
   ]
  },
  {
   "cell_type": "markdown",
   "id": "7d4b64c4",
   "metadata": {},
   "source": [
    "Python is a programming language. It is a common language in data science. "
   ]
  },
  {
   "cell_type": "markdown",
   "id": "ee56becc",
   "metadata": {},
   "source": [
    "10. What is jupyter notebook, what type of python environment is it, and what alternatives are there to jupyter notebook?"
   ]
  },
  {
   "cell_type": "markdown",
   "id": "d7d1f0f4",
   "metadata": {},
   "source": [
    "Jupyter notebook is a web-based programming platform. It is the main environment for data science work. Some alternatives to jupyter notebooks include VS Code, nteract, Juypterlite, and Google Collab.  "
   ]
  }
 ],
 "metadata": {
  "kernelspec": {
   "display_name": "Python 3 (ipykernel)",
   "language": "python",
   "name": "python3"
  },
  "language_info": {
   "codemirror_mode": {
    "name": "ipython",
    "version": 3
   },
   "file_extension": ".py",
   "mimetype": "text/x-python",
   "name": "python",
   "nbconvert_exporter": "python",
   "pygments_lexer": "ipython3",
   "version": "3.9.12"
  }
 },
 "nbformat": 4,
 "nbformat_minor": 5
}
